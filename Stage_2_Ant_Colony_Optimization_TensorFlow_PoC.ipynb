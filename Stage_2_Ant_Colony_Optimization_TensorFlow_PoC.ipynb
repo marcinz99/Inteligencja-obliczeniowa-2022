{
  "nbformat": 4,
  "nbformat_minor": 0,
  "metadata": {
    "colab": {
      "provenance": [],
      "collapsed_sections": [],
      "toc_visible": true
    },
    "kernelspec": {
      "name": "python3",
      "display_name": "Python 3"
    },
    "language_info": {
      "name": "python"
    },
    "gpuClass": "premium"
  },
  "cells": [
    {
      "cell_type": "code",
      "execution_count": 1,
      "metadata": {
        "id": "OL3NL9RNgR5j"
      },
      "outputs": [],
      "source": [
        "import numpy as np\n",
        "import tensorflow as tf\n",
        "import matplotlib.pyplot as plt\n",
        "import timeit"
      ]
    },
    {
      "cell_type": "code",
      "source": [
        "N = 10  # number of nodes in graph\n",
        "\n",
        "# COOrdinate graph representation\n",
        "row = tf.constant(np.array([0, 0, 0, 1, 1, 2, 2, 3, 3, 3, 4, 4, 5, 5, 5, 5, 5, 6, 6, 6, 6, 7, 7, 8, 8, 8, 9, 9], dtype=np.int32))\n",
        "col = tf.constant(np.array([1, 2, 3, 0, 6, 0, 5, 0, 4, 5, 3, 5, 2, 3, 4, 6, 9, 1, 5, 7, 8, 6, 8, 6, 7, 9, 7, 8], dtype=np.int32))\n",
        "hashes = 10 * row + col"
      ],
      "metadata": {
        "id": "-PDwd61lhFzV"
      },
      "execution_count": 2,
      "outputs": []
    },
    {
      "cell_type": "code",
      "source": [
        "tau = 1.0 / tf.cast(tf.gather(tf.math.segment_sum(tf.ones_like(row), row), row), tf.float32)\n",
        "eta = tf.ones_like(row, dtype=tf.float32)\n",
        "\n",
        "proba = tau * eta\n",
        "proba = proba / tf.gather(tf.math.segment_sum(proba, row), row)\n",
        "\n",
        "threshold = tf.math.cumsum(proba) - tf.cast(row, dtype=tf.float32)\n",
        "\n",
        "display(proba)"
      ],
      "metadata": {
        "id": "UUA6b1j8hFup",
        "colab": {
          "base_uri": "https://localhost:8080/",
          "height": 139
        },
        "outputId": "d0491759-313d-46ae-a8b2-bdd2d7c3d201"
      },
      "execution_count": 3,
      "outputs": [
        {
          "output_type": "display_data",
          "data": {
            "text/plain": [
              "<tf.Tensor: shape=(28,), dtype=float32, numpy=\n",
              "array([0.33333334, 0.33333334, 0.33333334, 0.5       , 0.5       ,\n",
              "       0.5       , 0.5       , 0.33333334, 0.33333334, 0.33333334,\n",
              "       0.5       , 0.5       , 0.2       , 0.2       , 0.2       ,\n",
              "       0.2       , 0.2       , 0.25      , 0.25      , 0.25      ,\n",
              "       0.25      , 0.5       , 0.5       , 0.33333334, 0.33333334,\n",
              "       0.33333334, 0.5       , 0.5       ], dtype=float32)>"
            ]
          },
          "metadata": {}
        }
      ]
    },
    {
      "cell_type": "code",
      "source": [
        "# Both do the same, but apparrently segment sum is not XLA-compilable\n",
        "tf.math.segment_sum(proba, row)\n",
        "tf.math.reduce_sum(tf.cast(row == tf.reshape(tf.range(10), [-1, 1]), dtype=tf.float32) * proba[tf.newaxis, :], axis=-1)"
      ],
      "metadata": {
        "colab": {
          "base_uri": "https://localhost:8080/"
        },
        "id": "J16Vo51qMoz_",
        "outputId": "4ff9a4a3-69c4-4805-e404-01ad82108886"
      },
      "execution_count": 4,
      "outputs": [
        {
          "output_type": "execute_result",
          "data": {
            "text/plain": [
              "<tf.Tensor: shape=(10,), dtype=float32, numpy=array([1., 1., 1., 1., 1., 1., 1., 1., 1., 1.], dtype=float32)>"
            ]
          },
          "metadata": {},
          "execution_count": 4
        }
      ]
    },
    {
      "cell_type": "code",
      "source": [
        "# Probability normalization (XLA friendly)\n",
        "proba / tf.gather(\n",
        "    tf.math.reduce_sum(tf.cast(row == tf.reshape(tf.range(10), [-1, 1]), dtype=tf.float32) * proba[tf.newaxis, :], axis=-1),\n",
        "    row)"
      ],
      "metadata": {
        "colab": {
          "base_uri": "https://localhost:8080/"
        },
        "id": "RoGj77xHNu3S",
        "outputId": "33efb73f-bfe4-499c-b532-bf86eedc7cc3"
      },
      "execution_count": 11,
      "outputs": [
        {
          "output_type": "execute_result",
          "data": {
            "text/plain": [
              "<tf.Tensor: shape=(28,), dtype=float32, numpy=\n",
              "array([0.33333334, 0.33333334, 0.33333334, 0.5       , 0.5       ,\n",
              "       0.5       , 0.5       , 0.33333334, 0.33333334, 0.33333334,\n",
              "       0.5       , 0.5       , 0.2       , 0.2       , 0.2       ,\n",
              "       0.2       , 0.2       , 0.25      , 0.25      , 0.25      ,\n",
              "       0.25      , 0.5       , 0.5       , 0.33333334, 0.33333334,\n",
              "       0.33333334, 0.5       , 0.5       ], dtype=float32)>"
            ]
          },
          "metadata": {},
          "execution_count": 11
        }
      ]
    },
    {
      "cell_type": "code",
      "source": [
        "@tf.function\n",
        "def traverse_one_step(row, col, ants, threshold):\n",
        "    thresholds_per_agent = tf.gather(\n",
        "        tf.where(row == tf.reshape(tf.range(10, dtype=tf.int32), [-1, 1]), threshold, 0),\n",
        "        indices=ants)\n",
        "\n",
        "    targets = tf.gather(\n",
        "        col,\n",
        "        tf.argmax((thresholds_per_agent - tf.random.uniform([9])[:, tf.newaxis]) > 0, axis=-1))\n",
        "\n",
        "    return targets"
      ],
      "metadata": {
        "id": "2euyrDHoje6D"
      },
      "execution_count": 4,
      "outputs": []
    },
    {
      "cell_type": "code",
      "source": [
        "@tf.function\n",
        "def proceed_one_epoch(row, col, hashes, ants, history, proba, starts, end, sink, source, h_len):\n",
        "    threshold = tf.math.cumsum(proba) - tf.cast(row, dtype=tf.float32)\n",
        "    ants = traverse_one_step(row, col, ants, threshold)\n",
        "    history = tf.tensor_scatter_nd_update(history, tf.transpose(tf.stack([tf.fill([9], end), tf.range(9)])), ants)\n",
        "\n",
        "    is_at_target = tf.boolean_mask(tf.range(9), ants == sink)\n",
        "    t = tf.tile(tf.gather(history, is_at_target, axis=-1), [2, 1])[:h_len + end + 1]\n",
        "    s = tf.gather(tf.where(starts > end, starts, starts + h_len), is_at_target)\n",
        "\n",
        "    history = tf.tensor_scatter_nd_update(\n",
        "        history, tf.transpose(tf.stack([tf.fill([9], end), tf.range(9)])), tf.where(ants == sink, source, ants))\n",
        "\n",
        "    starts = tf.where(ants == sink, end, starts)\n",
        "    starts = tf.where(ants == source, end, starts)\n",
        "    ants = tf.where(ants == sink, source, ants)\n",
        "\n",
        "    edges_to_enhance = tf.boolean_mask(\n",
        "        tf.reshape(tf.transpose(tf.stack([t[:-1, :], t[1:, :]], axis=-1), [1, 0, 2]), [-1, 2]),\n",
        "        tf.reshape(tf.transpose((tf.cumsum(tf.ones_like(t), axis=0) - 1)[1:, :] > s), [-1])\n",
        "    )\n",
        "\n",
        "    hashed_selected_edges = 10 * edges_to_enhance[:, 0] + edges_to_enhance[:, 1]\n",
        "    updates = tf.reduce_sum(tf.cast(tf.reshape(hashed_selected_edges, [-1, 1]) == hashes, dtype=tf.int32), axis=0)\n",
        "\n",
        "    proba *= tf.pow(1.05, tf.cast(updates, dtype=tf.float32))\n",
        "    proba = tf.maximum(proba, 0.125 * eta)\n",
        "    proba = proba / tf.gather(\n",
        "        tf.math.reduce_sum(\n",
        "            tf.cast(row == tf.reshape(tf.range(10), [-1, 1]), dtype=tf.float32) * proba[tf.newaxis, :], axis=-1),\n",
        "        row)\n",
        "    \n",
        "    return proba, ants, history, starts, tf.reduce_sum(tf.ones_like(s))"
      ],
      "metadata": {
        "id": "bJuDZScU8qy0"
      },
      "execution_count": 5,
      "outputs": []
    },
    {
      "cell_type": "markdown",
      "source": [
        "### No GPU optimization (CPU run)"
      ],
      "metadata": {
        "id": "OIGAJscIXnWn"
      }
    },
    {
      "cell_type": "code",
      "source": [
        "start_time = timeit.default_timer()\n",
        "\n",
        "ants = tf.zeros([9], dtype=tf.int32)\n",
        "starts = tf.zeros_like(ants, dtype=tf.int32)\n",
        "h_len = 20\n",
        "source = 0\n",
        "sink = 9\n",
        "history = tf.zeros([h_len, 9], dtype=tf.int32)\n",
        "history = tf.tensor_scatter_nd_update(history, tf.transpose(tf.stack([tf.fill([9], 0), tf.range(9)])), ants)\n",
        "\n",
        "tau = 1.0 / tf.cast(tf.gather(tf.math.segment_sum(tf.ones_like(row), row), row), tf.float32)\n",
        "eta = tf.ones_like(row, dtype=tf.float32)\n",
        "\n",
        "proba = tau * eta\n",
        "proba = proba / tf.gather(tf.math.segment_sum(proba, row), row)\n",
        "\n",
        "stats = []\n",
        "\n",
        "for step in range(1, 2000):\n",
        "    end = step % h_len\n",
        "    threshold = tf.math.cumsum(proba) - tf.cast(row, dtype=tf.float32)\n",
        "    ants = traverse_one_step(row, col, ants, threshold)\n",
        "    history = tf.tensor_scatter_nd_update(history, tf.transpose(tf.stack([tf.fill([9], end), tf.range(9)])), ants)\n",
        "\n",
        "    is_at_target = tf.boolean_mask(tf.range(9), ants == sink)\n",
        "    t = tf.tile(tf.gather(history, is_at_target, axis=-1), [2, 1])[:h_len + end + 1]\n",
        "    s = tf.gather(tf.where(starts > end, starts, starts + h_len), is_at_target)\n",
        "\n",
        "    stats += [s.shape[0]]\n",
        "\n",
        "    history = tf.tensor_scatter_nd_update(\n",
        "        history, tf.transpose(tf.stack([tf.fill(9, end), tf.range([9])])), tf.where(ants == sink, source, ants))\n",
        "\n",
        "    starts = tf.where(ants == sink, end, starts)\n",
        "    starts = tf.where(ants == source, end, starts)\n",
        "    ants = tf.where(ants == sink, source, ants)\n",
        "\n",
        "    edges_to_enhance = tf.boolean_mask(\n",
        "        tf.reshape(tf.transpose(tf.stack([t[:-1, :], t[1:, :]], axis=-1), [1, 0, 2]), [-1, 2]),\n",
        "        tf.reshape(tf.transpose((tf.cumsum(tf.ones_like(t), axis=0) - 1)[1:, :] > s), [-1])\n",
        "    )\n",
        "\n",
        "    hashed_selected_edges = 10 * edges_to_enhance[:, 0] + edges_to_enhance[:, 1]\n",
        "    updates = tf.reduce_sum(tf.cast(tf.reshape(hashed_selected_edges, [-1, 1]) == hashes, dtype=tf.int32), axis=0)\n",
        "\n",
        "    proba *= tf.pow(1.1, tf.cast(updates, dtype=tf.float32))\n",
        "    proba = tf.maximum(proba, 0.05 * eta)\n",
        "    proba = proba / tf.gather(tf.math.segment_sum(proba, row), row)\n",
        "\n",
        "end_time = timeit.default_timer()\n",
        "print(f\"Time {end_time - start_time :.4f}s\")"
      ],
      "metadata": {
        "id": "l74zzh-trmy4",
        "colab": {
          "base_uri": "https://localhost:8080/"
        },
        "outputId": "927a11a1-7585-4d0e-955d-bf460e941251"
      },
      "execution_count": 15,
      "outputs": [
        {
          "output_type": "stream",
          "name": "stdout",
          "text": [
            "Time 20.4354s\n"
          ]
        }
      ]
    },
    {
      "cell_type": "code",
      "source": [
        "points = [\n",
        "    [0, 0], [1, 1], [1, 0], [1, -1], [2, -1], [2, 0], [2, 1], [3, 0], [4, 1], [4, -1]\n",
        "]\n",
        "\n",
        "best_path = [source]\n",
        "for i in range(N):\n",
        "    best_path += [int(col[tf.argmax(tf.where(row == best_path[-1], proba, 0))])]\n",
        "    if best_path[-1] == sink:\n",
        "        break\n",
        "\n",
        "plt.figure(figsize=(12, 5))\n",
        "plt.subplot(1, 2, 1)\n",
        "plt.title(\"Original graph\\n\", fontsize=13)\n",
        "for i, point in enumerate(points):\n",
        "    s = 300 if i in [0, len(points) - 1] else 50\n",
        "    plt.scatter(point[0], point[1], c='r', s=s)\n",
        "    plt.text(point[0], point[1] + 0.05, str(i), fontsize=15)\n",
        "\n",
        "for i, j in zip(list(row.numpy()), list(col.numpy())):\n",
        "    plt.plot([points[i][0], points[j][0]], [points[i][1], points[j][1]], c='tab:orange')\n",
        "\n",
        "plt.axis('off')\n",
        "\n",
        "plt.subplot(1, 2, 2)\n",
        "plt.title(\"Probabilities after ants\\n\", fontsize=13)\n",
        "for i, point in enumerate(points):\n",
        "    s = 300 if i in [0, len(points) - 1] else 50\n",
        "    plt.scatter(point[0], point[1], c='r', s=s)\n",
        "    plt.text(point[0], point[1] + 0.05, str(i), fontsize=15)\n",
        "\n",
        "for i, j, p in tf.stack([tf.cast(row, tf.float32), tf.cast(col, tf.float32), proba]).numpy().T:\n",
        "    i, j = int(i), int(j)\n",
        "    if i < j:\n",
        "        plt.plot([points[i][0], points[j][0]], [points[i][1], points[j][1]], c='tab:green', alpha=p)\n",
        "\n",
        "for i, j in zip(best_path[:-1], best_path[1:]):\n",
        "    plt.plot([points[i][0], points[j][0]], [points[i][1], points[j][1]], c='tab:blue', lw=25, zorder=-2, alpha=0.2)\n",
        "\n",
        "\n",
        "plt.axis('off')\n",
        "\n",
        "plt.tight_layout()\n",
        "plt.show()\n",
        "\n",
        "print()\n",
        "plt.figure(figsize=(12, 6))\n",
        "\n",
        "ma = 15\n",
        "cumusum = np.cumsum(stats)\n",
        "avg_number_of_successful_ants = (cumusum[ma:] - cumusum[:-ma]) / ma\n",
        "plt.title(\"Average number of ants succeeding\")\n",
        "plt.xlabel(\"Epoch\")\n",
        "plt.ylabel(\"Number of ants (after moving average)\")\n",
        "plt.plot(np.arange(ma, len(stats)), avg_number_of_successful_ants)\n",
        "plt.grid()\n",
        "plt.tight_layout()\n",
        "plt.show()"
      ],
      "metadata": {
        "colab": {
          "base_uri": "https://localhost:8080/",
          "height": 810
        },
        "id": "4jQ4Gcr3rY_F",
        "outputId": "83393fe4-ebea-424e-c5a9-5142865e526a"
      },
      "execution_count": 16,
      "outputs": [
        {
          "output_type": "display_data",
          "data": {
            "text/plain": [
              "<Figure size 864x360 with 2 Axes>"
            ],
            "image/png": "[encoded data removed]"
          },
          "metadata": {
            "needs_background": "light"
          }
        },
        {
          "output_type": "stream",
          "name": "stdout",
          "text": [
            "\n"
          ]
        },
        {
          "output_type": "display_data",
          "data": {
            "text/plain": [
              "<Figure size 864x432 with 1 Axes>"
            ],
            "image/png": "[encoded data removed]"
          },
          "metadata": {
            "needs_background": "light"
          }
        }
      ]
    },
    {
      "cell_type": "markdown",
      "source": [
        "### Some GPU optimization, proceed epoch as tf.function (CPU run)"
      ],
      "metadata": {
        "id": "DJqF4k_OYcTQ"
      }
    },
    {
      "cell_type": "code",
      "source": [
        "start_time = timeit.default_timer()\n",
        "\n",
        "ants = tf.zeros([9], dtype=tf.int32)\n",
        "starts = tf.zeros_like(ants, dtype=tf.int32)\n",
        "h_len = 20\n",
        "source = 0\n",
        "sink = 9\n",
        "history = tf.zeros([h_len, 9], dtype=tf.int32)\n",
        "history = tf.tensor_scatter_nd_update(history, tf.transpose(tf.stack([tf.fill(9, 0), tf.range(9)])), ants)\n",
        "\n",
        "tau = 1.0 / tf.cast(tf.gather(tf.math.segment_sum(tf.ones_like(row), row), row), tf.float32)\n",
        "eta = tf.ones_like(row, dtype=tf.float32)\n",
        "\n",
        "proba = tau * eta\n",
        "proba = proba / tf.gather(tf.math.segment_sum(proba, row), row)\n",
        "\n",
        "stats = []\n",
        "\n",
        "for step in range(1, 2000):\n",
        "    end = step % h_len\n",
        "    proba, ants, history, starts, s = proceed_one_epoch(row, col, hashes, ants, history, proba, starts, tf.constant(end), sink, source, h_len)\n",
        "    stats += [s]\n",
        "\n",
        "end_time = timeit.default_timer()\n",
        "print(f\"Time {end_time - start_time :.4f}s\")"
      ],
      "metadata": {
        "colab": {
          "base_uri": "https://localhost:8080/"
        },
        "id": "9w7WSifIArjo",
        "outputId": "c18e5230-0672-4015-edf9-dc74d63f0e2e"
      },
      "execution_count": 17,
      "outputs": [
        {
          "output_type": "stream",
          "name": "stdout",
          "text": [
            "Time 3.5072s\n"
          ]
        }
      ]
    },
    {
      "cell_type": "markdown",
      "source": [
        "### Some GPU optimization, proceed epoch as tf.function (GPU run)"
      ],
      "metadata": {
        "id": "318KohkjY5pL"
      }
    },
    {
      "cell_type": "code",
      "source": [
        "# GPU Run\n",
        "start_time = timeit.default_timer()\n",
        "\n",
        "ants = tf.zeros([9], dtype=tf.int32)\n",
        "starts = tf.zeros_like(ants, dtype=tf.int32)\n",
        "h_len = 20\n",
        "source = 0\n",
        "sink = 9\n",
        "history = tf.zeros([h_len, 9], dtype=tf.int32)\n",
        "history = tf.tensor_scatter_nd_update(history, tf.transpose(tf.stack([tf.fill(9, 0), tf.range(9)])), ants)\n",
        "\n",
        "tau = 1.0 / tf.cast(tf.gather(tf.math.segment_sum(tf.ones_like(row), row), row), tf.float32)\n",
        "eta = tf.ones_like(row, dtype=tf.float32)\n",
        "\n",
        "proba = tau * eta\n",
        "proba = proba / tf.gather(tf.math.segment_sum(proba, row), row)\n",
        "\n",
        "stats = []\n",
        "\n",
        "for step in range(1, 2000):\n",
        "    end = step % h_len\n",
        "    proba, ants, history, starts, s = proceed_one_epoch(row, col, hashes, ants, history, proba, starts, tf.constant(end), sink, source, h_len)\n",
        "    stats += [s]\n",
        "\n",
        "end_time = timeit.default_timer()\n",
        "print(f\"Time {end_time - start_time :.4f}s\")"
      ],
      "metadata": {
        "colab": {
          "base_uri": "https://localhost:8080/"
        },
        "id": "hpDsEZBuEqsv",
        "outputId": "25b41e5b-1ff0-4632-9d32-eee274228fef"
      },
      "execution_count": 7,
      "outputs": [
        {
          "output_type": "stream",
          "name": "stdout",
          "text": [
            "Time 4.8191s\n"
          ]
        }
      ]
    },
    {
      "cell_type": "markdown",
      "source": [
        "### Everything inside tf.function (CPU run)"
      ],
      "metadata": {
        "id": "QHri26eHZHNb"
      }
    },
    {
      "cell_type": "code",
      "source": [
        "@tf.function(reduce_retracing=False, jit_compile=False)\n",
        "def gpu_run(row, col, hashes, tau, epochs):\n",
        "    with tf.GradientTape() as t:\n",
        "        with t.stop_recording():\n",
        "            ants = tf.zeros([9], dtype=tf.int32)\n",
        "            starts = tf.zeros_like(ants, dtype=tf.int32)\n",
        "            h_len = 20\n",
        "            source = 0\n",
        "            sink = 9\n",
        "            history = tf.zeros([h_len, 9], dtype=tf.int32)\n",
        "            history = tf.tensor_scatter_nd_update(history, tf.transpose(tf.stack([tf.fill([9], 0), tf.range(9)])), ants)\n",
        "\n",
        "            eta = tf.ones_like(row, dtype=tf.float32)\n",
        "\n",
        "            proba = tau * eta\n",
        "            proba = proba / tf.gather(\n",
        "                tf.math.reduce_sum(\n",
        "                    tf.cast(row == tf.reshape(tf.range(10), [-1, 1]), dtype=tf.float32) * proba[tf.newaxis, :], axis=-1),\n",
        "                row)\n",
        "\n",
        "            step = tf.constant(0, dtype=tf.int32)\n",
        "            while tf.less(step, epochs):\n",
        "                proba, ants, history, starts, s = proceed_one_epoch(row, col, hashes, ants, history, proba, starts, step % h_len, sink, source, h_len)\n",
        "                step += 1\n",
        "            \n",
        "            return proba"
      ],
      "metadata": {
        "id": "Rxe-hkGXaiPg"
      },
      "execution_count": 28,
      "outputs": []
    },
    {
      "cell_type": "code",
      "source": [
        "start_time = timeit.default_timer()\n",
        "\n",
        "with tf.device('cpu:0'):\n",
        "    gpu_run(row, col, hashes, tau, epochs=2000)\n",
        "\n",
        "end_time = timeit.default_timer()\n",
        "print(f\"Time {end_time - start_time :.4f}s\")"
      ],
      "metadata": {
        "colab": {
          "base_uri": "https://localhost:8080/"
        },
        "id": "pg68wyuHarmd",
        "outputId": "3ab08b02-b1ff-4767-da40-3faf3fade469"
      },
      "execution_count": 31,
      "outputs": [
        {
          "output_type": "stream",
          "name": "stdout",
          "text": [
            "Time 0.4914s\n"
          ]
        }
      ]
    },
    {
      "cell_type": "code",
      "source": [
        "@tf.function(reduce_retracing=False, jit_compile=True)\n",
        "def gpu_run(row, col, hashes, tau, epochs):\n",
        "    with tf.GradientTape() as t:\n",
        "        with t.stop_recording():\n",
        "            ants = tf.zeros([9], dtype=tf.int32)\n",
        "            starts = tf.zeros_like(ants, dtype=tf.int32)\n",
        "            h_len = 20\n",
        "            source = 0\n",
        "            sink = 9\n",
        "            history = tf.zeros([h_len, 9], dtype=tf.int32)\n",
        "            history = tf.tensor_scatter_nd_update(history, tf.transpose(tf.stack([tf.fill([9], 0), tf.range(9)])), ants)\n",
        "\n",
        "            eta = tf.ones_like(row, dtype=tf.float32)\n",
        "\n",
        "            proba = tau * eta\n",
        "            proba = proba / tf.gather(\n",
        "                tf.math.reduce_sum(\n",
        "                    tf.cast(row == tf.reshape(tf.range(10), [-1, 1]), dtype=tf.float32) * proba[tf.newaxis, :], axis=-1),\n",
        "                row)\n",
        "\n",
        "            step = tf.constant(0, dtype=tf.int32)\n",
        "            while tf.less(step, epochs):\n",
        "                proba, ants, history, starts, s = proceed_one_epoch(row, col, hashes, ants, history, proba, starts, step % h_len, sink, source, h_len)\n",
        "                step += 1\n",
        "            \n",
        "            return proba"
      ],
      "metadata": {
        "id": "e-ly8WghaeJe"
      },
      "execution_count": 59,
      "outputs": []
    },
    {
      "cell_type": "code",
      "source": [
        "start_time = timeit.default_timer()\n",
        "\n",
        "with tf.device('cpu:0'):\n",
        "    gpu_run(row, col, hashes, tau, epochs=2000)\n",
        "\n",
        "end_time = timeit.default_timer()\n",
        "print(f\"Time {end_time - start_time :.4f}s\")"
      ],
      "metadata": {
        "colab": {
          "base_uri": "https://localhost:8080/"
        },
        "id": "rSYjpVA8axIs",
        "outputId": "228437c2-e8da-4a7e-c99c-2a4fa7852f36"
      },
      "execution_count": 74,
      "outputs": [
        {
          "output_type": "stream",
          "name": "stdout",
          "text": [
            "Time 0.1919s\n"
          ]
        }
      ]
    },
    {
      "cell_type": "code",
      "source": [
        "@tf.function(reduce_retracing=True, jit_compile=False)\n",
        "def gpu_run(row, col, hashes, tau, epochs):\n",
        "    with tf.GradientTape() as t:\n",
        "        with t.stop_recording():\n",
        "            ants = tf.zeros([9], dtype=tf.int32)\n",
        "            starts = tf.zeros_like(ants, dtype=tf.int32)\n",
        "            h_len = 20\n",
        "            source = 0\n",
        "            sink = 9\n",
        "            history = tf.zeros([h_len, 9], dtype=tf.int32)\n",
        "            history = tf.tensor_scatter_nd_update(history, tf.transpose(tf.stack([tf.fill([9], 0), tf.range(9)])), ants)\n",
        "\n",
        "            eta = tf.ones_like(row, dtype=tf.float32)\n",
        "\n",
        "            proba = tau * eta\n",
        "            proba = proba / tf.gather(\n",
        "                tf.math.reduce_sum(\n",
        "                    tf.cast(row == tf.reshape(tf.range(10), [-1, 1]), dtype=tf.float32) * proba[tf.newaxis, :], axis=-1),\n",
        "                row)\n",
        "\n",
        "            step = tf.constant(0, dtype=tf.int32)\n",
        "            while tf.less(step, epochs):\n",
        "                proba, ants, history, starts, s = proceed_one_epoch(row, col, hashes, ants, history, proba, starts, step % h_len, sink, source, h_len)\n",
        "                step += 1\n",
        "            \n",
        "            return proba"
      ],
      "metadata": {
        "id": "uPfgLYXSaeHY"
      },
      "execution_count": 40,
      "outputs": []
    },
    {
      "cell_type": "code",
      "source": [
        "start_time = timeit.default_timer()\n",
        "\n",
        "with tf.device('cpu:0'):\n",
        "    gpu_run(row, col, hashes, tau, epochs=2000)\n",
        "\n",
        "end_time = timeit.default_timer()\n",
        "print(f\"Time {end_time - start_time :.4f}s\")"
      ],
      "metadata": {
        "colab": {
          "base_uri": "https://localhost:8080/"
        },
        "id": "88hDdXmha46u",
        "outputId": "36f2ae03-8aef-451c-9829-963722baeeb2"
      },
      "execution_count": 52,
      "outputs": [
        {
          "output_type": "stream",
          "name": "stdout",
          "text": [
            "Time 0.5744s\n"
          ]
        }
      ]
    },
    {
      "cell_type": "code",
      "source": [
        "@tf.function(reduce_retracing=True, jit_compile=True)\n",
        "def gpu_run(row, col, hashes, tau, epochs):\n",
        "    with tf.GradientTape() as t:\n",
        "        with t.stop_recording():\n",
        "            ants = tf.zeros([9], dtype=tf.int32)\n",
        "            starts = tf.zeros_like(ants, dtype=tf.int32)\n",
        "            h_len = 20\n",
        "            source = 0\n",
        "            sink = 9\n",
        "            history = tf.zeros([h_len, 9], dtype=tf.int32)\n",
        "            history = tf.tensor_scatter_nd_update(history, tf.transpose(tf.stack([tf.fill([9], 0), tf.range(9)])), ants)\n",
        "\n",
        "            eta = tf.ones_like(row, dtype=tf.float32)\n",
        "\n",
        "            proba = tau * eta\n",
        "            proba = proba / tf.gather(\n",
        "                tf.math.reduce_sum(\n",
        "                    tf.cast(row == tf.reshape(tf.range(10), [-1, 1]), dtype=tf.float32) * proba[tf.newaxis, :], axis=-1),\n",
        "                row)\n",
        "\n",
        "            step = tf.constant(0, dtype=tf.int32)\n",
        "            while tf.less(step, epochs):\n",
        "                proba, ants, history, starts, s = proceed_one_epoch(row, col, hashes, ants, history, proba, starts, step % h_len, sink, source, h_len)\n",
        "                step += 1\n",
        "            \n",
        "            return proba"
      ],
      "metadata": {
        "id": "ppa8DxKyE5Eu"
      },
      "execution_count": 75,
      "outputs": []
    },
    {
      "cell_type": "code",
      "source": [
        "start_time = timeit.default_timer()\n",
        "\n",
        "with tf.device('cpu:0'):\n",
        "    gpu_run(row, col, hashes, tau, epochs=2000)\n",
        "\n",
        "end_time = timeit.default_timer()\n",
        "print(f\"Time {end_time - start_time :.4f}s\")"
      ],
      "metadata": {
        "colab": {
          "base_uri": "https://localhost:8080/"
        },
        "id": "jMG6o6VNZSDu",
        "outputId": "640b8352-9ece-4c5f-d2a7-87deda95ca7a"
      },
      "execution_count": 79,
      "outputs": [
        {
          "output_type": "stream",
          "name": "stdout",
          "text": [
            "Time 0.1806s\n"
          ]
        }
      ]
    },
    {
      "cell_type": "code",
      "source": [
        "start_time = timeit.default_timer()\n",
        "\n",
        "with tf.device('cpu:0'):\n",
        "    gpu_run(row, col, hashes, tau, epochs=150000)\n",
        "\n",
        "end_time = timeit.default_timer()\n",
        "print(f\"Time {end_time - start_time :.4f}s\")"
      ],
      "metadata": {
        "colab": {
          "base_uri": "https://localhost:8080/"
        },
        "id": "yRbiyfDeZwd2",
        "outputId": "a0cde312-8013-4874-e10e-15aabf367795"
      },
      "execution_count": 19,
      "outputs": [
        {
          "output_type": "stream",
          "name": "stdout",
          "text": [
            "Time 11.3856s\n"
          ]
        }
      ]
    },
    {
      "cell_type": "markdown",
      "source": [
        "### Everything inside tf.function (GPU run)"
      ],
      "metadata": {
        "id": "SGaQm94Ib4X3"
      }
    },
    {
      "cell_type": "code",
      "source": [
        "@tf.function(reduce_retracing=True, jit_compile=True)\n",
        "def gpu_run(row, col, hashes, tau, epochs):\n",
        "    with tf.GradientTape() as t:\n",
        "        with t.stop_recording():\n",
        "            ants = tf.zeros([9], dtype=tf.int32)\n",
        "            starts = tf.zeros_like(ants, dtype=tf.int32)\n",
        "            h_len = 20\n",
        "            source = 0\n",
        "            sink = 9\n",
        "            history = tf.zeros([h_len, 9], dtype=tf.int32)\n",
        "            history = tf.tensor_scatter_nd_update(history, tf.transpose(tf.stack([tf.fill([9], 0), tf.range(9)])), ants)\n",
        "\n",
        "            eta = tf.ones_like(row, dtype=tf.float32)\n",
        "\n",
        "            proba = tau * eta\n",
        "            proba = proba / tf.gather(\n",
        "                tf.math.reduce_sum(\n",
        "                    tf.cast(row == tf.reshape(tf.range(10), [-1, 1]), dtype=tf.float32) * proba[tf.newaxis, :], axis=-1),\n",
        "                row)\n",
        "\n",
        "            step = tf.constant(0, dtype=tf.int32)\n",
        "            while tf.less(step, epochs):\n",
        "                proba, ants, history, starts, s = proceed_one_epoch(row, col, hashes, ants, history, proba, starts, step % h_len, sink, source, h_len)\n",
        "                step += 1\n",
        "            \n",
        "            return proba"
      ],
      "metadata": {
        "id": "Zktmh8L6b6xd"
      },
      "execution_count": 8,
      "outputs": []
    },
    {
      "cell_type": "code",
      "source": [
        "start_time = timeit.default_timer()\n",
        "\n",
        "with tf.device('gpu:0'):\n",
        "    gpu_run(row, col, hashes, tau, epochs=2000)\n",
        "\n",
        "end_time = timeit.default_timer()\n",
        "print(f\"Time {end_time - start_time :.4f}s\")"
      ],
      "metadata": {
        "colab": {
          "base_uri": "https://localhost:8080/"
        },
        "id": "Jn4djSvecwYB",
        "outputId": "117006f5-4a0d-4c3a-dc36-3fe65feba941"
      },
      "execution_count": 18,
      "outputs": [
        {
          "output_type": "stream",
          "name": "stdout",
          "text": [
            "Time 0.3614s\n"
          ]
        }
      ]
    },
    {
      "cell_type": "code",
      "source": [
        "start_time = timeit.default_timer()\n",
        "\n",
        "with tf.device('gpu:0'):\n",
        "    gpu_run(row, col, hashes, tau, epochs=150000)\n",
        "\n",
        "end_time = timeit.default_timer()\n",
        "print(f\"Time {end_time - start_time :.4f}s\")"
      ],
      "metadata": {
        "colab": {
          "base_uri": "https://localhost:8080/"
        },
        "id": "fRL-OK-iFLt3",
        "outputId": "f8693795-f372-444a-e12a-980e2790c306"
      },
      "execution_count": 13,
      "outputs": [
        {
          "output_type": "stream",
          "name": "stdout",
          "text": [
            "Time 18.3746s\n"
          ]
        }
      ]
    },
    {
      "cell_type": "markdown",
      "source": [
        "### Everything inside tf.function (high-end GPU run)"
      ],
      "metadata": {
        "id": "NaSf-VY2dJzX"
      }
    },
    {
      "cell_type": "code",
      "source": [
        "@tf.function(reduce_retracing=True, jit_compile=True)\n",
        "def gpu_run(row, col, hashes, tau, epochs):\n",
        "    with tf.GradientTape() as t:\n",
        "        with t.stop_recording():\n",
        "            ants = tf.zeros([9], dtype=tf.int32)\n",
        "            starts = tf.zeros_like(ants, dtype=tf.int32)\n",
        "            h_len = 20\n",
        "            source = 0\n",
        "            sink = 9\n",
        "            history = tf.zeros([h_len, 9], dtype=tf.int32)\n",
        "            history = tf.tensor_scatter_nd_update(history, tf.transpose(tf.stack([tf.fill([9], 0), tf.range(9)])), ants)\n",
        "\n",
        "            eta = tf.ones_like(row, dtype=tf.float32)\n",
        "\n",
        "            proba = tau * eta\n",
        "            proba = proba / tf.gather(\n",
        "                tf.math.reduce_sum(\n",
        "                    tf.cast(row == tf.reshape(tf.range(10), [-1, 1]), dtype=tf.float32) * proba[tf.newaxis, :], axis=-1),\n",
        "                row)\n",
        "\n",
        "            step = tf.constant(0, dtype=tf.int32)\n",
        "            while tf.less(step, epochs):\n",
        "                proba, ants, history, starts, s = proceed_one_epoch(row, col, hashes, ants, history, proba, starts, step % h_len, sink, source, h_len)\n",
        "                step += 1\n",
        "            \n",
        "            return proba"
      ],
      "metadata": {
        "id": "372H_EU3dJPp"
      },
      "execution_count": 7,
      "outputs": []
    },
    {
      "cell_type": "code",
      "source": [
        "start_time = timeit.default_timer()\n",
        "\n",
        "with tf.device('gpu:0'):\n",
        "    gpu_run(row, col, hashes, tau, epochs=2000)\n",
        "\n",
        "end_time = timeit.default_timer()\n",
        "print(f\"Time {end_time - start_time :.4f}s\")"
      ],
      "metadata": {
        "id": "mpSdyTrawNRh",
        "colab": {
          "base_uri": "https://localhost:8080/"
        },
        "outputId": "d539df53-fe3b-4be8-96b1-f4660384f145"
      },
      "execution_count": 14,
      "outputs": [
        {
          "output_type": "stream",
          "name": "stdout",
          "text": [
            "Time 0.2948s\n"
          ]
        }
      ]
    },
    {
      "cell_type": "code",
      "source": [
        "start_time = timeit.default_timer()\n",
        "\n",
        "with tf.device('gpu:0'):\n",
        "    gpu_run(row, col, hashes, tau, epochs=150000)\n",
        "\n",
        "end_time = timeit.default_timer()\n",
        "print(f\"Time {end_time - start_time :.4f}s\")"
      ],
      "metadata": {
        "id": "-fKPfoHCwNPU",
        "colab": {
          "base_uri": "https://localhost:8080/"
        },
        "outputId": "1450f237-1325-499d-cab4-ebb289f64493"
      },
      "execution_count": 15,
      "outputs": [
        {
          "output_type": "stream",
          "name": "stdout",
          "text": [
            "Time 22.2890s\n"
          ]
        }
      ]
    },
    {
      "cell_type": "markdown",
      "source": [
        "### Everything inside tf.function (TPU run)"
      ],
      "metadata": {
        "id": "mC9bgQ5zd3De"
      }
    },
    {
      "cell_type": "code",
      "source": [
        "@tf.function(reduce_retracing=True, jit_compile=True)\n",
        "def gpu_run(row, col, hashes, tau, epochs):\n",
        "    with tf.GradientTape() as t:\n",
        "        with t.stop_recording():\n",
        "            ants = tf.zeros([9], dtype=tf.int32)\n",
        "            starts = tf.zeros_like(ants, dtype=tf.int32)\n",
        "            h_len = 20\n",
        "            source = 0\n",
        "            sink = 9\n",
        "            history = tf.zeros([h_len, 9], dtype=tf.int32)\n",
        "            history = tf.tensor_scatter_nd_update(history, tf.transpose(tf.stack([tf.fill([9], 0), tf.range(9)])), ants)\n",
        "\n",
        "            eta = tf.ones_like(row, dtype=tf.float32)\n",
        "\n",
        "            proba = tau * eta\n",
        "            proba = proba / tf.gather(\n",
        "                tf.math.reduce_sum(\n",
        "                    tf.cast(row == tf.reshape(tf.range(10), [-1, 1]), dtype=tf.float32) * proba[tf.newaxis, :], axis=-1),\n",
        "                row)\n",
        "\n",
        "            step = tf.constant(0, dtype=tf.int32)\n",
        "            while tf.less(step, epochs):\n",
        "                proba, ants, history, starts, s = proceed_one_epoch(row, col, hashes, ants, history, proba, starts, step % h_len, sink, source, h_len)\n",
        "                step += 1\n",
        "            \n",
        "            return proba"
      ],
      "metadata": {
        "id": "obmjhe44dzrZ"
      },
      "execution_count": 6,
      "outputs": []
    },
    {
      "cell_type": "code",
      "source": [
        "start_time = timeit.default_timer()\n",
        "\n",
        "with tf.device('tpu:0'):\n",
        "    gpu_run(row, col, hashes, tau, epochs=2000)\n",
        "\n",
        "end_time = timeit.default_timer()\n",
        "print(f\"Time {end_time - start_time :.4f}s\")"
      ],
      "metadata": {
        "colab": {
          "base_uri": "https://localhost:8080/"
        },
        "id": "WKyAyfxcdzpD",
        "outputId": "5ed01265-0bba-4d78-b4e5-5555708b24ba"
      },
      "execution_count": 32,
      "outputs": [
        {
          "output_type": "stream",
          "name": "stdout",
          "text": [
            "Time 0.1773s\n"
          ]
        }
      ]
    },
    {
      "cell_type": "code",
      "source": [
        "start_time = timeit.default_timer()\n",
        "\n",
        "with tf.device('tpu:0'):\n",
        "    gpu_run(row, col, hashes, tau, epochs=150000)\n",
        "\n",
        "end_time = timeit.default_timer()\n",
        "print(f\"Time {end_time - start_time :.4f}s\")"
      ],
      "metadata": {
        "colab": {
          "base_uri": "https://localhost:8080/"
        },
        "id": "fzzuhJEzdzms",
        "outputId": "e976cd05-2aaa-4f3b-927d-f06661d25df5"
      },
      "execution_count": 34,
      "outputs": [
        {
          "output_type": "stream",
          "name": "stdout",
          "text": [
            "Time 13.9803s\n"
          ]
        }
      ]
    },
    {
      "cell_type": "code",
      "source": [],
      "metadata": {
        "id": "_DF7KvaywNM8"
      },
      "execution_count": null,
      "outputs": []
    },
    {
      "cell_type": "code",
      "source": [],
      "metadata": {
        "id": "4d7zSjP5wLs0"
      },
      "execution_count": null,
      "outputs": []
    }
  ]
}