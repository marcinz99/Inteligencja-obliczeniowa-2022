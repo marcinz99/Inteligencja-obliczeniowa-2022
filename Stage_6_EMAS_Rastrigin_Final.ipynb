{
  "nbformat": 4,
  "nbformat_minor": 0,
  "metadata": {
    "colab": {
      "provenance": [],
      "toc_visible": true
    },
    "kernelspec": {
      "name": "python3",
      "display_name": "Python 3"
    },
    "language_info": {
      "name": "python"
    },
    "gpuClass": "premium"
  },
  "cells": [
    {
      "cell_type": "markdown",
      "source": [
        "Colab: https://colab.research.google.com/drive/1YcMlwQgjnuP2Au-akMHnJE4dT2fqZAFE?usp=sharing"
      ],
      "metadata": {
        "id": "74bAH0oGcWkq"
      }
    },
    {
      "cell_type": "code",
      "source": [
        "import numpy as np\n",
        "import math\n",
        "import tensorflow as tf\n",
        "import matplotlib.pyplot as plt\n",
        "import timeit"
      ],
      "metadata": {
        "id": "eUPqHyGOhHXy"
      },
      "execution_count": 1,
      "outputs": []
    },
    {
      "cell_type": "code",
      "source": [
        "@tf.function()\n",
        "def rastrigin(x, n=2):\n",
        "    # Calculate the value of Rastrigin function at a given point in space\n",
        "    return 10 * n + tf.reduce_sum(tf.pow(x, 2) - 10 * tf.math.cos(2.0 * math.pi * x), axis=1, keepdims=True)\n",
        "\n",
        "\n",
        "@tf.function()\n",
        "def get_initial_solution(k, n=2):\n",
        "    # Return random solutions\n",
        "    return tf.random.uniform([k, n], minval=-5.12, maxval=5.12, dtype=tf.float32)\n",
        "\n",
        "\n",
        "@tf.function()\n",
        "def get_energies(k):\n",
        "    # Return initial energies of agents\n",
        "    return tf.zeros([k, 1], dtype=tf.float32) + 5.0\n",
        "\n",
        "\n",
        "@tf.function()\n",
        "def crossing(a, b, n):\n",
        "    k = tf.reduce_sum(tf.ones_like(a[:, 0], dtype=tf.int32))\n",
        "    \n",
        "    # Random bubble (hyper-sphere) between points\n",
        "    reposition = tf.random.uniform([k, n], minval=-1, maxval=1)\n",
        "    reposition = reposition / tf.norm(reposition, axis=1, keepdims=True)\n",
        "    new_position_1 = ((a + b) / 2.0) + (tf.maximum((tf.norm(a - b, axis=1, keepdims=True) / 2.0), 1e-3) * reposition)\n",
        "    \n",
        "    # Random exchange of genomes\n",
        "    new_position_2 = tf.where(\n",
        "        tf.random.uniform(shape=[k, 1]) < tf.random.uniform([1], 0.05, 0.95), a, b)\n",
        "\n",
        "    # Choose one crossing or another\n",
        "    new_position = tf.where(\n",
        "        tf.random.uniform(shape=[k, 1]) < tf.random.uniform([1], 0.2, 0.5), new_position_1, new_position_2)\n",
        "\n",
        "    # Apply mutation, because why not\n",
        "    # Cauchy distribution derived from uniform distribution\n",
        "    mutation = 0.05 * tf.math.tan(tf.random.uniform(minval=-1.0 * math.pi / 2 + 1e-6, maxval=math.pi / 2 - 1e-6, shape=[k, n]))\n",
        "    new_position_m = tf.where(\n",
        "        tf.random.uniform(shape=[k, 1]) < tf.random.uniform([1], 0.05, 0.4), new_position + mutation, new_position)\n",
        "    \n",
        "    # Choose mutated or not\n",
        "    new_position = tf.where(\n",
        "        tf.random.uniform(shape=[k, 1]) < 0.4, new_position_m, new_position)\n",
        "\n",
        "    new_position = tf.clip_by_value(new_position, clip_value_min=-5.12, clip_value_max=5.12)\n",
        "\n",
        "    return new_position\n",
        "\n",
        "\n",
        "@tf.function()\n",
        "def do_reproduction(reproduce_solution, reproduce_energy, n):\n",
        "    # Reproduction arena\n",
        "    n_pairs = tf.reduce_sum(tf.ones_like(reproduce_solution[:, 0], dtype=tf.int32)) // 2\n",
        "    arena_r = 2 * n_pairs\n",
        "\n",
        "    a = tf.reshape(reproduce_solution[:arena_r], [-1, 2, n])[:, 0, :]\n",
        "    b = tf.reshape(reproduce_solution[:arena_r], [-1, 2, n])[:, 1, :]\n",
        "\n",
        "    new_position = crossing(a, b, n)\n",
        "\n",
        "    new_solution = tf.concat([\n",
        "            reproduce_solution[:arena_r],\n",
        "            new_position,\n",
        "            reproduce_solution[arena_r:]],\n",
        "        axis=0)\n",
        "    new_energy = tf.concat([\n",
        "            reproduce_energy[:arena_r] - 2.5,\n",
        "            5.0 * tf.ones_like(new_position[:, :1], dtype=tf.float32),\n",
        "            reproduce_energy[arena_r:]],\n",
        "        axis=0)\n",
        "\n",
        "    return new_solution, new_energy, n_pairs\n",
        "\n",
        "\n",
        "@tf.function()\n",
        "def do_fight(fight_solution, fight_energy, n):\n",
        "    # Fighting arena\n",
        "    arena_f = 2 * (tf.reduce_sum(tf.ones_like(fight_solution[:, 0], dtype=tf.int32)) // 2)\n",
        "    score = rastrigin(fight_solution, n)\n",
        "    best_score = tf.reduce_min(score)\n",
        "\n",
        "    a = tf.reshape(score[:arena_f], [-1, 2, 1])[:, 0, :]\n",
        "    b = tf.reshape(score[:arena_f], [-1, 2, 1])[:, 1, :]\n",
        "    \n",
        "    winner = tf.concat([a < b, a >= b], axis=1)\n",
        "    prize = tf.reduce_sum(\n",
        "        tf.minimum(tf.where(winner, 0.0, tf.reshape(fight_energy[:arena_f], [-1, 2])), 2.0),\n",
        "        axis=1, keepdims=True)\n",
        "    prize = tf.where(winner, prize, -1.0 * prize)\n",
        "    prize = tf.reshape(prize, [-1, 1])\n",
        "\n",
        "    new_energy = tf.concat([fight_energy[:arena_f] + prize, fight_energy[arena_f:]], axis=0)\n",
        "    not_dead = new_energy[:, 0] > 1e-5\n",
        "    new_energy = tf.boolean_mask(new_energy, not_dead)\n",
        "    new_solution = tf.boolean_mask(fight_solution, not_dead)\n",
        "\n",
        "    return new_solution, new_energy, best_score"
      ],
      "metadata": {
        "id": "5J-Hg9MJvyCo"
      },
      "execution_count": 2,
      "outputs": []
    },
    {
      "cell_type": "code",
      "source": [
        "def function_factory(loop_autograph, loop_xla, main_reduce_retrace, main_xla):\n",
        "    @tf.function(autograph=loop_autograph, jit_compile=loop_xla)\n",
        "    def while_loop_works(k, epochs, n, current_pop_size, max_pop_size, energy, solution, best_scores, pop_sizes, crossings):\n",
        "\n",
        "        def cond(step, energy, solution, current_pop_size, best_scores, pop_sizes, crossings):\n",
        "            return tf.less(step, epochs)\n",
        "\n",
        "        def body(step, energy, solution, current_pop_size, best_scores, pop_sizes, crossings, max_pop_size=max_pop_size, k=k):\n",
        "            current_pop_size = current_pop_size\n",
        "            energy = energy[:current_pop_size]\n",
        "            solution = solution[:current_pop_size]\n",
        "\n",
        "            reproduce = (energy > 10)[:, 0]\n",
        "            fight = tf.math.logical_not(reproduce)\n",
        "\n",
        "            reproduce_solution, reproduce_energy, n_pairs = do_reproduction(\n",
        "                tf.boolean_mask(solution, reproduce),\n",
        "                tf.boolean_mask(energy, reproduce),\n",
        "                n)\n",
        "            fight_solution, fight_energy, best_score = do_fight(\n",
        "                tf.boolean_mask(solution, fight),\n",
        "                tf.boolean_mask(energy, fight),\n",
        "                n)\n",
        "\n",
        "            solution = tf.concat([reproduce_solution, fight_solution], axis=0)[:max_pop_size]\n",
        "            energy = tf.concat([reproduce_energy, fight_energy], axis=0)[:max_pop_size]\n",
        "\n",
        "            current_pop_size = tf.reduce_sum(tf.ones_like(energy, dtype=tf.int32))\n",
        "\n",
        "            perm = (tf.cast(tf.range(current_pop_size), dtype=tf.int32) * 24179) % current_pop_size\n",
        "            energy = tf.gather(energy[:current_pop_size], perm)\n",
        "            solution = tf.gather(solution[:current_pop_size], perm)\n",
        "\n",
        "            best_scores = tf.tensor_scatter_nd_update(\n",
        "                best_scores, [[step]], [best_score])\n",
        "            pop_sizes = tf.tensor_scatter_nd_update(\n",
        "                pop_sizes, [[step]], [current_pop_size])\n",
        "            crossings = tf.tensor_scatter_nd_update(\n",
        "                crossings, [[step]], [n_pairs])\n",
        "            \n",
        "            pad_size = tf.maximum(max_pop_size - current_pop_size, 0)\n",
        "            solution = tf.pad(solution, paddings=[[0, pad_size], [0, 0]], constant_values=0)\n",
        "            energy = tf.pad(energy, paddings=[[0, pad_size], [0, 0]], constant_values=0)\n",
        "            \n",
        "            return (\n",
        "                tf.add(step, 1),\n",
        "                tf.reshape(energy, [k, 1]),\n",
        "                tf.reshape(solution, [k, n]),\n",
        "                current_pop_size,\n",
        "                best_scores,\n",
        "                pop_sizes,\n",
        "                crossings,\n",
        "            )\n",
        "\n",
        "        _, energy, solution, current_pop_size, best_scores, pop_sizes, crossings = tf.while_loop(\n",
        "            cond=cond,\n",
        "            body=body,\n",
        "            loop_vars=[tf.constant(0, dtype=tf.int32), energy, solution, current_pop_size, best_scores, pop_sizes, crossings],\n",
        "            parallel_iterations=1,\n",
        "        )\n",
        "\n",
        "        return energy, solution, best_scores, pop_sizes, crossings\n",
        "\n",
        "\n",
        "    @tf.function(reduce_retracing=main_reduce_retrace, jit_compile=main_xla)\n",
        "    def emas_rastrigin(k, epochs, n, max_pop_size):\n",
        "        assert k <= max_pop_size\n",
        "        with tf.GradientTape() as t:\n",
        "            with t.stop_recording():\n",
        "                k_ = tf.constant(k, dtype=tf.int32)\n",
        "                n_ = tf.constant(n, dtype=tf.int32)\n",
        "                epochs = tf.constant(epochs, dtype=tf.int32)\n",
        "\n",
        "                best_scores = tf.zeros([epochs], dtype=tf.float32) + math.nan\n",
        "                pop_sizes = tf.zeros([epochs], dtype=tf.int32)\n",
        "                crossings = tf.zeros([epochs], dtype=tf.int32)\n",
        "                max_pop_size = tf.constant(max_pop_size, dtype=tf.int32)\n",
        "                current_pop_size = k_\n",
        "\n",
        "                energy = get_energies(k_)\n",
        "                solution = get_initial_solution(k_, n_)\n",
        "\n",
        "                energy = tf.pad(energy, paddings=[[0, max_pop_size - current_pop_size], [0, 0]], constant_values=0)\n",
        "                solution = tf.pad(solution, paddings=[[0, max_pop_size - current_pop_size], [0, 0]], constant_values=0)\n",
        "\n",
        "                energy, solution, best_scores, pop_sizes, crossings = while_loop_works(\n",
        "                    k, epochs, n, current_pop_size, max_pop_size, energy, solution, best_scores, pop_sizes, crossings)\n",
        "                \n",
        "                return solution, energy, best_scores, pop_sizes, crossings\n",
        "    \n",
        "    return emas_rastrigin"
      ],
      "metadata": {
        "id": "ldJCbOhXEI6B"
      },
      "execution_count": 3,
      "outputs": []
    },
    {
      "cell_type": "markdown",
      "source": [
        "# Time testing"
      ],
      "metadata": {
        "id": "JBuPuwwXZVSu"
      }
    },
    {
      "cell_type": "markdown",
      "source": [
        "## CPU"
      ],
      "metadata": {
        "id": "mHrKOq4aZTUo"
      }
    },
    {
      "cell_type": "markdown",
      "source": [
        "### Without XLA"
      ],
      "metadata": {
        "id": "_PWJNaqpZeN3"
      }
    },
    {
      "cell_type": "markdown",
      "source": [
        "#### Small n and k - a lot of epochs"
      ],
      "metadata": {
        "id": "zHNZ7jFKaBye"
      }
    },
    {
      "cell_type": "code",
      "source": [
        "k = 100\n",
        "epochs = 250000\n",
        "n = 10\n",
        "\n",
        "emas_rastrigin = function_factory(loop_autograph=False, loop_xla=True, main_reduce_retrace=True, main_xla=False)"
      ],
      "metadata": {
        "id": "z94BVODHblU4"
      },
      "execution_count": 134,
      "outputs": []
    },
    {
      "cell_type": "code",
      "source": [
        "emas_rastrigin(k=k, epochs=10, n=n, max_pop_size=k)  # Make sure graph is built\n",
        "start_time = timeit.default_timer()\n",
        "\n",
        "with tf.device('cpu:0'):\n",
        "    solution, energy, best_scores, pop_sizes, crossings = emas_rastrigin(k=k, epochs=epochs, n=n, max_pop_size=k)\n",
        "\n",
        "end_time = timeit.default_timer()\n",
        "print(f\"Time {end_time - start_time :.4f}s\")\n",
        "\n",
        "assert tf.abs(tf.reduce_sum(energy) - k * 5) < 1e-4, \"Energy not preserved\""
      ],
      "metadata": {
        "colab": {
          "base_uri": "https://localhost:8080/"
        },
        "id": "rZU5hGsVbmEs",
        "outputId": "72ea994a-960c-4ebc-bcf5-12628114ae26"
      },
      "execution_count": 135,
      "outputs": [
        {
          "output_type": "stream",
          "name": "stdout",
          "text": [
            "Time 14.9583s\n"
          ]
        }
      ]
    },
    {
      "cell_type": "markdown",
      "source": [
        "#### Large n and k - not that many epochs"
      ],
      "metadata": {
        "id": "xAKu3v0kaC84"
      }
    },
    {
      "cell_type": "code",
      "source": [
        "k = 2000\n",
        "epochs = 100\n",
        "n = 10000\n",
        "\n",
        "emas_rastrigin = function_factory(loop_autograph=False, loop_xla=True, main_reduce_retrace=True, main_xla=False)"
      ],
      "metadata": {
        "id": "9X1rAyv9bm5F"
      },
      "execution_count": 136,
      "outputs": []
    },
    {
      "cell_type": "code",
      "source": [
        "emas_rastrigin(k=k, epochs=10, n=n, max_pop_size=k)  # Make sure graph is built\n",
        "start_time = timeit.default_timer()\n",
        "\n",
        "with tf.device('cpu:0'):\n",
        "    solution, energy, best_scores, pop_sizes, crossings = emas_rastrigin(k=k, epochs=epochs, n=n, max_pop_size=k)\n",
        "\n",
        "end_time = timeit.default_timer()\n",
        "print(f\"Time {end_time - start_time :.4f}s\")\n",
        "\n",
        "assert tf.abs(tf.reduce_sum(energy) - k * 5) < 1e-4, \"Energy not preserved\""
      ],
      "metadata": {
        "colab": {
          "base_uri": "https://localhost:8080/"
        },
        "id": "l7LbZuKPbm2o",
        "outputId": "72f20684-4e18-478c-849a-e3313f4ebdc6"
      },
      "execution_count": 137,
      "outputs": [
        {
          "output_type": "stream",
          "name": "stdout",
          "text": [
            "Time 64.3765s\n"
          ]
        }
      ]
    },
    {
      "cell_type": "markdown",
      "source": [
        "### With XLA"
      ],
      "metadata": {
        "id": "Y78aHhzUZZk-"
      }
    },
    {
      "cell_type": "markdown",
      "source": [
        "#### Small n and k - a lot of epochs"
      ],
      "metadata": {
        "id": "889m2hGHZky8"
      }
    },
    {
      "cell_type": "code",
      "source": [
        "k = 100\n",
        "epochs = 250000\n",
        "n = 10\n",
        "\n",
        "emas_rastrigin = function_factory(loop_autograph=False, loop_xla=True, main_reduce_retrace=True, main_xla=True)"
      ],
      "metadata": {
        "id": "G4-cVc5PYlkG"
      },
      "execution_count": 131,
      "outputs": []
    },
    {
      "cell_type": "code",
      "source": [
        "emas_rastrigin(k=k, epochs=10, n=n, max_pop_size=k)  # Make sure graph is built\n",
        "start_time = timeit.default_timer()\n",
        "\n",
        "with tf.device('cpu:0'):\n",
        "    solution, energy, best_scores, pop_sizes, crossings = emas_rastrigin(k=k, epochs=epochs, n=n, max_pop_size=k)\n",
        "\n",
        "end_time = timeit.default_timer()\n",
        "print(f\"Time {end_time - start_time :.4f}s\")\n",
        "\n",
        "assert tf.abs(tf.reduce_sum(energy) - k * 5) < 1e-4, \"Energy not preserved\""
      ],
      "metadata": {
        "colab": {
          "base_uri": "https://localhost:8080/"
        },
        "id": "UuF3ZBuvvx9c",
        "outputId": "804f0829-8f90-496b-f2ef-b73499fce6d1"
      },
      "execution_count": 133,
      "outputs": [
        {
          "output_type": "stream",
          "name": "stdout",
          "text": [
            "Time 12.1042s\n"
          ]
        }
      ]
    },
    {
      "cell_type": "code",
      "source": [
        "plt.figure(figsize=(15, 10))\n",
        "\n",
        "plt.subplot(2, 1, 1)\n",
        "plt.title(\"Best minimum found so far\")\n",
        "plt.xlabel(\"Epoch\")\n",
        "plt.ylabel(\"Evaluation\", fontsize=12)\n",
        "plt.plot(np.arange(1, len(best_scores) + 1), best_scores)\n",
        "plt.xlim(0, len(best_scores) + 1)\n",
        "plt.ylim(0)\n",
        "plt.grid()\n",
        "plt.twinx()\n",
        "plt.ylabel(\"Number of reproductions\", fontsize=12)\n",
        "plt.plot(np.arange(1, len(best_scores) + 1), np.cumsum(crossings), c='tab:orange')\n",
        "plt.ylim(0)\n",
        "\n",
        "plt.subplot(2, 1, 2)\n",
        "plt.title(\"Population size\")\n",
        "plt.xlabel(\"Epoch\", fontsize=12)\n",
        "plt.ylabel(\"Number of agents\", fontsize=12)\n",
        "plt.plot(np.arange(1, len(pop_sizes) + 1), pop_sizes)\n",
        "plt.xlim(0, len(pop_sizes) + 1)\n",
        "plt.grid()\n",
        "\n",
        "plt.tight_layout()\n",
        "plt.show()"
      ],
      "metadata": {
        "colab": {
          "base_uri": "https://localhost:8080/",
          "height": 729
        },
        "id": "p22L8k32UEx1",
        "outputId": "605405bc-ec4b-4cf3-ee32-07951209bf64"
      },
      "execution_count": 125,
      "outputs": [
        {
          "output_type": "display_data",
          "data": {
            "text/plain": [
              "<Figure size 1080x720 with 3 Axes>"
            ],
            "image/png": "[encoded data removed]"
          },
          "metadata": {
            "needs_background": "light"
          }
        }
      ]
    },
    {
      "cell_type": "markdown",
      "source": [
        "#### Large n and k - not that many epochs"
      ],
      "metadata": {
        "id": "hsYpzMoEZs8A"
      }
    },
    {
      "cell_type": "code",
      "source": [
        "k = 2000\n",
        "epochs = 100\n",
        "n = 10000\n",
        "\n",
        "emas_rastrigin = function_factory(loop_autograph=False, loop_xla=True, main_reduce_retrace=True, main_xla=True)"
      ],
      "metadata": {
        "id": "R6gb032lbBER"
      },
      "execution_count": 138,
      "outputs": []
    },
    {
      "cell_type": "code",
      "source": [
        "emas_rastrigin(k=k, epochs=10, n=n, max_pop_size=k)  # Make sure graph is built\n",
        "start_time = timeit.default_timer()\n",
        "\n",
        "with tf.device('cpu:0'):\n",
        "    solution, energy, best_scores, pop_sizes, crossings = emas_rastrigin(k=k, epochs=epochs, n=n, max_pop_size=k)\n",
        "\n",
        "end_time = timeit.default_timer()\n",
        "print(f\"Time {end_time - start_time :.4f}s\")\n",
        "\n",
        "assert tf.abs(tf.reduce_sum(energy) - k * 5) < 1e-4, \"Energy not preserved\""
      ],
      "metadata": {
        "colab": {
          "base_uri": "https://localhost:8080/"
        },
        "id": "Ew1n0x4WW1Zi",
        "outputId": "939cfdb7-72ec-4928-8d57-6d3dd313fbe1"
      },
      "execution_count": 140,
      "outputs": [
        {
          "output_type": "stream",
          "name": "stdout",
          "text": [
            "Time 60.5606s\n"
          ]
        }
      ]
    },
    {
      "cell_type": "code",
      "source": [
        "plt.figure(figsize=(15, 10))\n",
        "\n",
        "plt.subplot(2, 1, 1)\n",
        "plt.title(\"Best minimum found so far\")\n",
        "plt.xlabel(\"Epoch\")\n",
        "plt.ylabel(\"Evaluation\", fontsize=12)\n",
        "plt.plot(np.arange(1, len(best_scores) + 1), best_scores)\n",
        "plt.xlim(0, len(best_scores) + 1)\n",
        "plt.ylim(0)\n",
        "plt.grid()\n",
        "plt.twinx()\n",
        "plt.ylabel(\"Number of reproductions\", fontsize=12)\n",
        "plt.plot(np.arange(1, len(best_scores) + 1), np.cumsum(crossings), c='tab:orange')\n",
        "plt.ylim(0)\n",
        "\n",
        "plt.subplot(2, 1, 2)\n",
        "plt.title(\"Population size\")\n",
        "plt.xlabel(\"Epoch\", fontsize=12)\n",
        "plt.ylabel(\"Number of agents\", fontsize=12)\n",
        "plt.plot(np.arange(1, len(pop_sizes) + 1), pop_sizes)\n",
        "plt.xlim(0, len(pop_sizes) + 1)\n",
        "plt.grid()\n",
        "\n",
        "plt.tight_layout()\n",
        "plt.show()"
      ],
      "metadata": {
        "colab": {
          "base_uri": "https://localhost:8080/",
          "height": 729
        },
        "id": "xezyel-XW1WD",
        "outputId": "7b91e013-5e40-411c-9302-56677a1c26f4"
      },
      "execution_count": 128,
      "outputs": [
        {
          "output_type": "display_data",
          "data": {
            "text/plain": [
              "<Figure size 1080x720 with 3 Axes>"
            ],
            "image/png": "[encoded data removed]"
          },
          "metadata": {
            "needs_background": "light"
          }
        }
      ]
    },
    {
      "cell_type": "markdown",
      "source": [
        "## GPU - standard"
      ],
      "metadata": {
        "id": "wR3PZY7-aKU_"
      }
    },
    {
      "cell_type": "markdown",
      "source": [
        "### Without XLA"
      ],
      "metadata": {
        "id": "GOVWMUYAaKU_"
      }
    },
    {
      "cell_type": "markdown",
      "source": [
        "#### Small n and k - a lot of epochs"
      ],
      "metadata": {
        "id": "N9TDBlLaaKU_"
      }
    },
    {
      "cell_type": "code",
      "source": [
        "k = 100\n",
        "epochs = 250000\n",
        "n = 10\n",
        "\n",
        "emas_rastrigin = function_factory(loop_autograph=False, loop_xla=True, main_reduce_retrace=True, main_xla=False)"
      ],
      "metadata": {
        "id": "1juWexl1aknB"
      },
      "execution_count": 4,
      "outputs": []
    },
    {
      "cell_type": "code",
      "source": [
        "emas_rastrigin(k=k, epochs=10, n=n, max_pop_size=k)  # Make sure graph is built\n",
        "start_time = timeit.default_timer()\n",
        "\n",
        "with tf.device('gpu:0'):\n",
        "    solution, energy, best_scores, pop_sizes, crossings = emas_rastrigin(k=k, epochs=epochs, n=n, max_pop_size=k)\n",
        "\n",
        "end_time = timeit.default_timer()\n",
        "print(f\"Time {end_time - start_time :.4f}s\")\n",
        "\n",
        "assert tf.abs(tf.reduce_sum(energy) - k * 5) < 1e-4, \"Energy not preserved\""
      ],
      "metadata": {
        "colab": {
          "base_uri": "https://localhost:8080/"
        },
        "id": "P2tusZwsaklN",
        "outputId": "fc194448-6b09-4105-c157-7ecfb3852a96"
      },
      "execution_count": 6,
      "outputs": [
        {
          "output_type": "stream",
          "name": "stdout",
          "text": [
            "Time 43.2964s\n"
          ]
        }
      ]
    },
    {
      "cell_type": "markdown",
      "source": [
        "#### Large n and k - not that many epochs"
      ],
      "metadata": {
        "id": "8mcNY8NBaKU_"
      }
    },
    {
      "cell_type": "code",
      "source": [
        "k = 2000\n",
        "epochs = 100\n",
        "n = 10000\n",
        "\n",
        "emas_rastrigin = function_factory(loop_autograph=False, loop_xla=True, main_reduce_retrace=True, main_xla=False)"
      ],
      "metadata": {
        "id": "FGfjbXdLalAg"
      },
      "execution_count": 7,
      "outputs": []
    },
    {
      "cell_type": "code",
      "source": [
        "emas_rastrigin(k=k, epochs=10, n=n, max_pop_size=k)  # Make sure graph is built\n",
        "start_time = timeit.default_timer()\n",
        "\n",
        "with tf.device('gpu:0'):\n",
        "    solution, energy, best_scores, pop_sizes, crossings = emas_rastrigin(k=k, epochs=epochs, n=n, max_pop_size=k)\n",
        "\n",
        "end_time = timeit.default_timer()\n",
        "print(f\"Time {end_time - start_time :.4f}s\")\n",
        "\n",
        "assert tf.abs(tf.reduce_sum(energy) - k * 5) < 1e-4, \"Energy not preserved\""
      ],
      "metadata": {
        "colab": {
          "base_uri": "https://localhost:8080/"
        },
        "id": "OzubTBJsak93",
        "outputId": "ca5b320c-86d8-43bc-aa8c-f327aa95673d"
      },
      "execution_count": 10,
      "outputs": [
        {
          "output_type": "stream",
          "name": "stdout",
          "text": [
            "Time 0.5612s\n"
          ]
        }
      ]
    },
    {
      "cell_type": "markdown",
      "source": [
        "### With XLA"
      ],
      "metadata": {
        "id": "2pBL8rNPaKU_"
      }
    },
    {
      "cell_type": "markdown",
      "source": [
        "#### Small n and k - a lot of epochs"
      ],
      "metadata": {
        "id": "jJucv2iGaKU_"
      }
    },
    {
      "cell_type": "code",
      "source": [
        "k = 100\n",
        "epochs = 250000\n",
        "n = 10\n",
        "\n",
        "emas_rastrigin = function_factory(loop_autograph=False, loop_xla=True, main_reduce_retrace=True, main_xla=True)"
      ],
      "metadata": {
        "id": "Q4edELzaaj9a"
      },
      "execution_count": 11,
      "outputs": []
    },
    {
      "cell_type": "code",
      "source": [
        "emas_rastrigin(k=k, epochs=10, n=n, max_pop_size=k)  # Make sure graph is built\n",
        "start_time = timeit.default_timer()\n",
        "\n",
        "with tf.device('gpu:0'):\n",
        "    solution, energy, best_scores, pop_sizes, crossings = emas_rastrigin(k=k, epochs=epochs, n=n, max_pop_size=k)\n",
        "\n",
        "end_time = timeit.default_timer()\n",
        "print(f\"Time {end_time - start_time :.4f}s\")\n",
        "\n",
        "assert tf.abs(tf.reduce_sum(energy) - k * 5) < 1e-4, \"Energy not preserved\""
      ],
      "metadata": {
        "colab": {
          "base_uri": "https://localhost:8080/"
        },
        "id": "Wgh6DM1Taj68",
        "outputId": "ffa2cc82-c663-4cc3-ef54-2960624b2e59"
      },
      "execution_count": 13,
      "outputs": [
        {
          "output_type": "stream",
          "name": "stdout",
          "text": [
            "Time 38.9117s\n"
          ]
        }
      ]
    },
    {
      "cell_type": "markdown",
      "source": [
        "#### Large n and k - not that many epochs"
      ],
      "metadata": {
        "id": "zORb3-RtaORV"
      }
    },
    {
      "cell_type": "code",
      "source": [
        "k = 2000\n",
        "epochs = 100\n",
        "n = 10000\n",
        "\n",
        "emas_rastrigin = function_factory(loop_autograph=False, loop_xla=True, main_reduce_retrace=True, main_xla=True)"
      ],
      "metadata": {
        "id": "CsNVR9hiaJ0M"
      },
      "execution_count": 14,
      "outputs": []
    },
    {
      "cell_type": "code",
      "source": [
        "emas_rastrigin(k=k, epochs=10, n=n, max_pop_size=k)  # Make sure graph is built\n",
        "start_time = timeit.default_timer()\n",
        "\n",
        "with tf.device('gpu:0'):\n",
        "    solution, energy, best_scores, pop_sizes, crossings = emas_rastrigin(k=k, epochs=epochs, n=n, max_pop_size=k)\n",
        "\n",
        "end_time = timeit.default_timer()\n",
        "print(f\"Time {end_time - start_time :.4f}s\")\n",
        "\n",
        "assert tf.abs(tf.reduce_sum(energy) - k * 5) < 1e-4, \"Energy not preserved\""
      ],
      "metadata": {
        "colab": {
          "base_uri": "https://localhost:8080/"
        },
        "id": "HqWtKXUPaJf-",
        "outputId": "7978d0a7-01be-4c30-c459-f57d9fada2ba"
      },
      "execution_count": 32,
      "outputs": [
        {
          "output_type": "stream",
          "name": "stdout",
          "text": [
            "Time 0.4856s\n"
          ]
        }
      ]
    },
    {
      "cell_type": "markdown",
      "source": [
        "## GPU - premium"
      ],
      "metadata": {
        "id": "Izl1z6-HaU2I"
      }
    },
    {
      "cell_type": "markdown",
      "source": [
        "### Without XLA"
      ],
      "metadata": {
        "id": "nO5nhFFKaU2J"
      }
    },
    {
      "cell_type": "markdown",
      "source": [
        "#### Small n and k - a lot of epochs"
      ],
      "metadata": {
        "id": "3UHqsPnVaU2J"
      }
    },
    {
      "cell_type": "code",
      "source": [
        "k = 100\n",
        "epochs = 250000\n",
        "n = 10\n",
        "\n",
        "emas_rastrigin = function_factory(loop_autograph=False, loop_xla=True, main_reduce_retrace=True, main_xla=False)"
      ],
      "metadata": {
        "id": "rOo3uahSaiQ2"
      },
      "execution_count": 4,
      "outputs": []
    },
    {
      "cell_type": "code",
      "source": [
        "emas_rastrigin(k=k, epochs=10, n=n, max_pop_size=k)  # Make sure graph is built\n",
        "start_time = timeit.default_timer()\n",
        "\n",
        "with tf.device('gpu:0'):\n",
        "    solution, energy, best_scores, pop_sizes, crossings = emas_rastrigin(k=k, epochs=epochs, n=n, max_pop_size=k)\n",
        "\n",
        "end_time = timeit.default_timer()\n",
        "print(f\"Time {end_time - start_time :.4f}s\")\n",
        "\n",
        "assert tf.abs(tf.reduce_sum(energy) - k * 5) < 1e-4, \"Energy not preserved\""
      ],
      "metadata": {
        "colab": {
          "base_uri": "https://localhost:8080/"
        },
        "id": "Nf90bpiYaiO4",
        "outputId": "9d67e446-1187-4268-de54-4efef5b2f717"
      },
      "execution_count": 6,
      "outputs": [
        {
          "output_type": "stream",
          "name": "stdout",
          "text": [
            "Time 52.3314s\n"
          ]
        }
      ]
    },
    {
      "cell_type": "markdown",
      "source": [
        "#### Large n and k - not that many epochs"
      ],
      "metadata": {
        "id": "_D5-wHVNaU2J"
      }
    },
    {
      "cell_type": "code",
      "source": [
        "k = 2000\n",
        "epochs = 100\n",
        "n = 10000\n",
        "\n",
        "emas_rastrigin = function_factory(loop_autograph=False, loop_xla=True, main_reduce_retrace=True, main_xla=False)"
      ],
      "metadata": {
        "id": "M3YtK8WYaize"
      },
      "execution_count": 7,
      "outputs": []
    },
    {
      "cell_type": "code",
      "source": [
        "emas_rastrigin(k=k, epochs=10, n=n, max_pop_size=k)  # Make sure graph is built\n",
        "start_time = timeit.default_timer()\n",
        "\n",
        "with tf.device('gpu:0'):\n",
        "    solution, energy, best_scores, pop_sizes, crossings = emas_rastrigin(k=k, epochs=epochs, n=n, max_pop_size=k)\n",
        "\n",
        "end_time = timeit.default_timer()\n",
        "print(f\"Time {end_time - start_time :.4f}s\")\n",
        "\n",
        "assert tf.abs(tf.reduce_sum(energy) - k * 5) < 1e-4, \"Energy not preserved\""
      ],
      "metadata": {
        "colab": {
          "base_uri": "https://localhost:8080/"
        },
        "id": "ZAxfmJkgaixB",
        "outputId": "20c06454-e657-47b8-c3b8-34a5f053b228"
      },
      "execution_count": 11,
      "outputs": [
        {
          "output_type": "stream",
          "name": "stdout",
          "text": [
            "Time 0.1559s\n"
          ]
        }
      ]
    },
    {
      "cell_type": "markdown",
      "source": [
        "### With XLA"
      ],
      "metadata": {
        "id": "OMSQCwD1aU2J"
      }
    },
    {
      "cell_type": "markdown",
      "source": [
        "#### Small n and k - a lot of epochs"
      ],
      "metadata": {
        "id": "awViYSj8aU2J"
      }
    },
    {
      "cell_type": "code",
      "source": [
        "k = 100\n",
        "epochs = 250000\n",
        "n = 10\n",
        "\n",
        "emas_rastrigin = function_factory(loop_autograph=False, loop_xla=True, main_reduce_retrace=True, main_xla=True)"
      ],
      "metadata": {
        "id": "nm4kNcypahn9"
      },
      "execution_count": 12,
      "outputs": []
    },
    {
      "cell_type": "code",
      "source": [
        "emas_rastrigin(k=k, epochs=10, n=n, max_pop_size=k)  # Make sure graph is built\n",
        "start_time = timeit.default_timer()\n",
        "\n",
        "with tf.device('gpu:0'):\n",
        "    solution, energy, best_scores, pop_sizes, crossings = emas_rastrigin(k=k, epochs=epochs, n=n, max_pop_size=k)\n",
        "\n",
        "end_time = timeit.default_timer()\n",
        "print(f\"Time {end_time - start_time :.4f}s\")\n",
        "\n",
        "assert tf.abs(tf.reduce_sum(energy) - k * 5) < 1e-4, \"Energy not preserved\""
      ],
      "metadata": {
        "colab": {
          "base_uri": "https://localhost:8080/"
        },
        "id": "HqShr7cMahk3",
        "outputId": "8464178b-ea68-4011-e010-708d1a437420"
      },
      "execution_count": 13,
      "outputs": [
        {
          "output_type": "stream",
          "name": "stderr",
          "text": [
            "WARNING:tensorflow:5 out of the last 13 calls to <function function_factory.<locals>.emas_rastrigin at 0x7f8f7437d1f0> triggered tf.function retracing. Tracing is expensive and the excessive number of tracings could be due to (1) creating @tf.function repeatedly in a loop, (2) passing tensors with different shapes, (3) passing Python objects instead of tensors. For (1), please define your @tf.function outside of the loop. For (2), @tf.function has reduce_retracing=True option that can avoid unnecessary retracing. For (3), please refer to https://www.tensorflow.org/guide/function#controlling_retracing and https://www.tensorflow.org/api_docs/python/tf/function for  more details.\n"
          ]
        },
        {
          "output_type": "stream",
          "name": "stdout",
          "text": [
            "Time 50.5861s\n"
          ]
        }
      ]
    },
    {
      "cell_type": "markdown",
      "source": [
        "#### Large n and k - not that many epochs"
      ],
      "metadata": {
        "id": "YnjbDZYvaU2J"
      }
    },
    {
      "cell_type": "code",
      "source": [
        "k = 2000\n",
        "epochs = 100\n",
        "n = 10000\n",
        "\n",
        "emas_rastrigin = function_factory(loop_autograph=False, loop_xla=True, main_reduce_retrace=True, main_xla=True)"
      ],
      "metadata": {
        "id": "_UDN0S0FaJcc"
      },
      "execution_count": 14,
      "outputs": []
    },
    {
      "cell_type": "code",
      "source": [
        "emas_rastrigin(k=k, epochs=10, n=n, max_pop_size=k)  # Make sure graph is built\n",
        "start_time = timeit.default_timer()\n",
        "\n",
        "with tf.device('gpu:0'):\n",
        "    solution, energy, best_scores, pop_sizes, crossings = emas_rastrigin(k=k, epochs=epochs, n=n, max_pop_size=k)\n",
        "\n",
        "end_time = timeit.default_timer()\n",
        "print(f\"Time {end_time - start_time :.4f}s\")\n",
        "\n",
        "assert tf.abs(tf.reduce_sum(energy) - k * 5) < 1e-4, \"Energy not preserved\""
      ],
      "metadata": {
        "colab": {
          "base_uri": "https://localhost:8080/"
        },
        "id": "Hnjuz6cJjzVj",
        "outputId": "071d49bd-5166-4502-c226-71010357a859"
      },
      "execution_count": 36,
      "outputs": [
        {
          "output_type": "stream",
          "name": "stdout",
          "text": [
            "Time 0.1379s\n"
          ]
        }
      ]
    },
    {
      "cell_type": "markdown",
      "source": [
        "#### Ultra: Large n and k - a lot of epochs"
      ],
      "metadata": {
        "id": "OK2CvYJqe5aU"
      }
    },
    {
      "cell_type": "code",
      "source": [
        "k = 2000\n",
        "epochs = 50000\n",
        "n = 10000\n",
        "\n",
        "emas_rastrigin = function_factory(loop_autograph=False, loop_xla=True, main_reduce_retrace=True, main_xla=True)"
      ],
      "metadata": {
        "id": "XhEv9uNDfBcW"
      },
      "execution_count": 50,
      "outputs": []
    },
    {
      "cell_type": "code",
      "source": [
        "emas_rastrigin(k=k, epochs=10, n=n, max_pop_size=k)  # Make sure graph is built\n",
        "start_time = timeit.default_timer()\n",
        "\n",
        "with tf.device('gpu:0'):\n",
        "    solution, energy, best_scores, pop_sizes, crossings = emas_rastrigin(k=k, epochs=epochs, n=n, max_pop_size=k)\n",
        "\n",
        "end_time = timeit.default_timer()\n",
        "print(f\"Time {end_time - start_time :.4f}s\")\n",
        "\n",
        "assert tf.abs(tf.reduce_sum(energy) - k * 5) < 1e-4, \"Energy not preserved\""
      ],
      "metadata": {
        "colab": {
          "base_uri": "https://localhost:8080/"
        },
        "id": "imGtIslzfC2E",
        "outputId": "1f1479eb-eec9-4ace-8a44-6e75b794eb36"
      },
      "execution_count": 51,
      "outputs": [
        {
          "output_type": "stream",
          "name": "stdout",
          "text": [
            "Time 72.2127s\n"
          ]
        }
      ]
    },
    {
      "cell_type": "code",
      "source": [
        "plt.figure(figsize=(15, 10))\n",
        "\n",
        "plt.subplot(2, 1, 1)\n",
        "plt.title(\"Best minimum found so far\")\n",
        "plt.xlabel(\"Epoch\")\n",
        "plt.ylabel(\"Evaluation\", fontsize=12)\n",
        "plt.plot(np.arange(1, len(best_scores) + 1), best_scores)\n",
        "plt.xlim(0, len(best_scores) + 1)\n",
        "plt.ylim(0)\n",
        "plt.grid()\n",
        "plt.twinx()\n",
        "plt.ylabel(\"Number of reproductions\", fontsize=12)\n",
        "plt.plot(np.arange(1, len(best_scores) + 1), np.cumsum(crossings), c='tab:orange')\n",
        "plt.ylim(0)\n",
        "\n",
        "plt.subplot(2, 1, 2)\n",
        "plt.title(\"Population size\")\n",
        "plt.xlabel(\"Epoch\", fontsize=12)\n",
        "plt.ylabel(\"Number of agents\", fontsize=12)\n",
        "plt.plot(np.arange(1, len(pop_sizes) + 1), pop_sizes)\n",
        "plt.xlim(0, len(pop_sizes) + 1)\n",
        "plt.grid()\n",
        "\n",
        "plt.tight_layout()\n",
        "plt.show()"
      ],
      "metadata": {
        "colab": {
          "base_uri": "https://localhost:8080/",
          "height": 729
        },
        "id": "tCbI8EFbiyQ4",
        "outputId": "46b78dc1-444d-4c7f-e1d2-768af0466568"
      },
      "execution_count": 52,
      "outputs": [
        {
          "output_type": "display_data",
          "data": {
            "text/plain": [
              "<Figure size 1080x720 with 3 Axes>"
            ],
            "image/png": "[encoded data removed]"
          },
          "metadata": {
            "needs_background": "light"
          }
        }
      ]
    },
    {
      "cell_type": "markdown",
      "source": [
        "## TPU"
      ],
      "metadata": {
        "id": "vr-QFKxaaVdc"
      }
    },
    {
      "cell_type": "markdown",
      "source": [
        "### With XLA\n",
        "\n",
        "Note: TPU devices always perform XLA compilation."
      ],
      "metadata": {
        "id": "IIj-xEKkaVdd"
      }
    },
    {
      "cell_type": "markdown",
      "source": [
        "#### Small n and k - a lot of epochs"
      ],
      "metadata": {
        "id": "Bph4DOTOaVdd"
      }
    },
    {
      "cell_type": "code",
      "source": [
        "k = 100\n",
        "epochs = 250000\n",
        "n = 10\n",
        "\n",
        "emas_rastrigin = function_factory(loop_autograph=False, loop_xla=True, main_reduce_retrace=True, main_xla=True)"
      ],
      "metadata": {
        "id": "cm3dqDM-af33"
      },
      "execution_count": 4,
      "outputs": []
    },
    {
      "cell_type": "code",
      "source": [
        "emas_rastrigin(k=k, epochs=10, n=n, max_pop_size=k)  # Make sure graph is built\n",
        "start_time = timeit.default_timer()\n",
        "\n",
        "with tf.device('tpu:0'):\n",
        "    solution, energy, best_scores, pop_sizes, crossings = emas_rastrigin(k=k, epochs=epochs, n=n, max_pop_size=k)\n",
        "\n",
        "end_time = timeit.default_timer()\n",
        "print(f\"Time {end_time - start_time :.4f}s\")\n",
        "\n",
        "assert tf.abs(tf.reduce_sum(energy) - k * 5) < 1e-4, \"Energy not preserved\""
      ],
      "metadata": {
        "colab": {
          "base_uri": "https://localhost:8080/"
        },
        "id": "IvA2PNl9af2P",
        "outputId": "e2465df7-f0b3-4573-939b-ae69b0bf4b15"
      },
      "execution_count": 7,
      "outputs": [
        {
          "output_type": "stream",
          "name": "stdout",
          "text": [
            "Time 11.5694s\n"
          ]
        }
      ]
    },
    {
      "cell_type": "markdown",
      "source": [
        "#### Large n and k - not that many epochs"
      ],
      "metadata": {
        "id": "bkhpqusCaVdd"
      }
    },
    {
      "cell_type": "code",
      "source": [
        "k = 2000\n",
        "epochs = 100\n",
        "n = 10000\n",
        "\n",
        "emas_rastrigin = function_factory(loop_autograph=False, loop_xla=True, main_reduce_retrace=True, main_xla=True)"
      ],
      "metadata": {
        "id": "rsYzPhp-Hgrh"
      },
      "execution_count": 8,
      "outputs": []
    },
    {
      "cell_type": "code",
      "source": [
        "emas_rastrigin(k=k, epochs=10, n=n, max_pop_size=k)  # Make sure graph is built\n",
        "start_time = timeit.default_timer()\n",
        "\n",
        "with tf.device('tpu:0'):\n",
        "    solution, energy, best_scores, pop_sizes, crossings = emas_rastrigin(k=k, epochs=epochs, n=n, max_pop_size=k)\n",
        "\n",
        "end_time = timeit.default_timer()\n",
        "print(f\"Time {end_time - start_time :.4f}s\")\n",
        "\n",
        "assert tf.abs(tf.reduce_sum(energy) - k * 5) < 1e-4, \"Energy not preserved\""
      ],
      "metadata": {
        "id": "fCuaNZcZn7Jj",
        "colab": {
          "base_uri": "https://localhost:8080/"
        },
        "outputId": "a0cf7132-f609-4dec-ecdb-9b789338c354"
      },
      "execution_count": 10,
      "outputs": [
        {
          "output_type": "stream",
          "name": "stdout",
          "text": [
            "Time 58.9382s\n"
          ]
        }
      ]
    },
    {
      "cell_type": "code",
      "source": [],
      "metadata": {
        "id": "T6X0F7D6fNnF"
      },
      "execution_count": null,
      "outputs": []
    },
    {
      "cell_type": "code",
      "source": [],
      "metadata": {
        "id": "fvEGJpr3fNkd"
      },
      "execution_count": null,
      "outputs": []
    }
  ]
}